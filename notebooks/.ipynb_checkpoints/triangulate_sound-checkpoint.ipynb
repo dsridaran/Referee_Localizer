{
 "cells": [
  {
   "cell_type": "code",
   "execution_count": 1,
   "id": "0e62859b-69f1-48e7-963a-d8a42c39f707",
   "metadata": {},
   "outputs": [],
   "source": [
    "import sys\n",
    "import os\n",
    "sys.path.append('../src') \n",
    "from data_preprocessing import load_unique_ref_positions\n",
    "from models import localize_whistle"
   ]
  },
  {
   "cell_type": "code",
   "execution_count": 2,
   "id": "f3311123-679a-4b98-8eb2-508344651e1a",
   "metadata": {},
   "outputs": [],
   "source": [
    "actual_positions = load_unique_ref_positions(\n",
    "    whistles_path = \"../data/whistles_CRO_BRA_Tagged.csv\", \n",
    "    ref_track_path = \"../data/refs_track_BRA_CRO.parquet\"\n",
    ")"
   ]
  },
  {
   "cell_type": "code",
   "execution_count": null,
   "id": "ae95e082-c78b-41f6-972a-61554418b0c2",
   "metadata": {},
   "outputs": [],
   "source": [
    "localize_whistle(\n",
    "    file_path = \"../data/snipped\", \n",
    "    whistle = 89, \n",
    "    plot = False, \n",
    "    field_length = 120, \n",
    "    field_width = 60, \n",
    "    speed_of_sound = 343, \n",
    "    grid_size = 10, \n",
    "    lowcut = 3000, \n",
    "    highcut = 5000, \n",
    "    unique_positions = actual_positions, \n",
    "    perturb_threshold = 0, \n",
    "    mic_index = None\n",
    ")"
   ]
  }
 ],
 "metadata": {
  "kernelspec": {
   "display_name": "Python 3 (ipykernel)",
   "language": "python",
   "name": "python3"
  },
  "language_info": {
   "codemirror_mode": {
    "name": "ipython",
    "version": 3
   },
   "file_extension": ".py",
   "mimetype": "text/x-python",
   "name": "python",
   "nbconvert_exporter": "python",
   "pygments_lexer": "ipython3",
   "version": "3.10.13"
  }
 },
 "nbformat": 4,
 "nbformat_minor": 5
}
