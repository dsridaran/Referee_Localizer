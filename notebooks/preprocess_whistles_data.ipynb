{
 "cells": [
  {
   "cell_type": "code",
   "execution_count": 1,
   "id": "bfb812d7-2847-473d-aa6d-8a8ed087aaab",
   "metadata": {},
   "outputs": [],
   "source": [
    "import sys\n",
    "import os\n",
    "sys.path.append('../src') \n",
    "from data_preprocessing import recut_data, load_tagged_whistles, create_half_and_time_columns, split_sound_data"
   ]
  },
  {
   "cell_type": "code",
   "execution_count": 2,
   "id": "8531559b-aed9-4089-bd1e-10f61ec1028c",
   "metadata": {},
   "outputs": [],
   "source": [
    "whistles = load_tagged_whistles(filepath = \"../data/whistles_CRO_BRA_Tagged.csv\")"
   ]
  },
  {
   "cell_type": "code",
   "execution_count": 4,
   "id": "90a63e1b-f0ec-4ec6-bbe6-4df5981e0dcb",
   "metadata": {},
   "outputs": [
    {
     "name": "stdout",
     "output_type": "stream",
     "text": [
      "Splitting file: 104_NEAR_LEFT_CORNER\n",
      "Splitting file: 105_LEFT_GOAL_-_NEAR\n",
      "Splitting file: 106_LEFT_GOAL_-_CAMERA\n",
      "Splitting file: 107_LEFT_GOAL_-_FAR\n",
      "Splitting file: 108_FAR_LEFT_CORNER\n",
      "Splitting file: 109_FAR_LEFT_18YRD\n",
      "Splitting file: 110_FAR_CENTRE_-_LEFT\n",
      "Splitting file: 111_FAR_CENTRE_-_CAMERA\n",
      "Splitting file: 112_FAR_CENTRE_-_RIGHT\n",
      "Splitting file: 113_FAR_RIGHT_18YRD\n",
      "Splitting file: 114_FAR_RIGHT_CORNER\n",
      "Splitting file: 115_RIGHT_GOAL_-_FAR\n",
      "Splitting file: 116_RIGHT_GOAL_-_CAMERA\n",
      "Splitting file: 117_RIGHT_GOAL_-_NEAR\n",
      "Splitting file: 118_NEAR_RIGHT_CORNER\n"
     ]
    }
   ],
   "source": [
    "recut_data(True, whistles)"
   ]
  }
 ],
 "metadata": {
  "kernelspec": {
   "display_name": "Python 3 (ipykernel)",
   "language": "python",
   "name": "python3"
  },
  "language_info": {
   "codemirror_mode": {
    "name": "ipython",
    "version": 3
   },
   "file_extension": ".py",
   "mimetype": "text/x-python",
   "name": "python",
   "nbconvert_exporter": "python",
   "pygments_lexer": "ipython3",
   "version": "3.10.13"
  }
 },
 "nbformat": 4,
 "nbformat_minor": 5
}
